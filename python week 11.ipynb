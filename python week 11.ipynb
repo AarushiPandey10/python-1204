{
 "cells": [
  {
   "cell_type": "code",
   "execution_count": 1,
   "metadata": {},
   "outputs": [
    {
     "name": "stdout",
     "output_type": "stream",
     "text": [
      "<class 'openpyxl.workbook.workbook.Workbook'>\n",
      "List of sheets\n",
      "Sheet2\n",
      "<class 'openpyxl.worksheet.worksheet.Worksheet'>\n",
      "Sheet2\n"
     ]
    }
   ],
   "source": [
    "import openpyxl\n",
    "\n",
    " \n",
    "\n",
    "wb = openpyxl.load_workbook(r'C:\\Users\\guddu\\Downloads\\realestatedata.xlsx')\n",
    "print(type(wb))\n",
    "\n",
    " \n",
    "\n",
    "sheets = wb.sheetnames\n",
    "print(\"List of sheets\")\n",
    "\n",
    " \n",
    "\n",
    "for x in sheets:\n",
    "    print(x)\n",
    "    sheet_name = x\n",
    "\n",
    " \n",
    "\n",
    "sheet = wb[sheet_name]\n",
    "print(type(sheet))\n",
    "\n",
    " \n",
    "\n",
    "print(sheet.title)"
   ]
  },
  {
   "cell_type": "code",
   "execution_count": null,
   "metadata": {},
   "outputs": [],
   "source": []
  }
 ],
 "metadata": {
  "kernelspec": {
   "display_name": "Python 3",
   "language": "python",
   "name": "python3"
  },
  "language_info": {
   "codemirror_mode": {
    "name": "ipython",
    "version": 3
   },
   "file_extension": ".py",
   "mimetype": "text/x-python",
   "name": "python",
   "nbconvert_exporter": "python",
   "pygments_lexer": "ipython3",
   "version": "3.8.5"
  }
 },
 "nbformat": 4,
 "nbformat_minor": 4
}
